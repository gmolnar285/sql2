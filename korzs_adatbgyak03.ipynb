{
    "metadata": {
        "kernelspec": {
            "name": "SQL",
            "display_name": "SQL",
            "language": "sql"
        },
        "language_info": {
            "name": "sql",
            "version": ""
        }
    },
    "nbformat_minor": 2,
    "nbformat": 4,
    "cells": [
        {
            "cell_type": "code",
            "source": [
                ""
            ],
            "metadata": {
                "azdata_cell_guid": "6ab9f633-a3b5-48c9-a1dc-4fb8235ae85b",
                "language": "sql"
            },
            "outputs": [],
            "execution_count": null
        }
    ]
}