{
    "metadata": {
        "kernelspec": {
            "name": "SQL",
            "display_name": "SQL",
            "language": "sql"
        },
        "language_info": {
            "name": "sql",
            "version": ""
        }
    },
    "nbformat_minor": 2,
    "nbformat": 4,
    "cells": [
        {
            "cell_type": "markdown",
            "source": [
                "<span style=\"color: rgb(18, 38, 44); font-family: Arial; font-size: 15px; background-color: rgb(239, 249, 252);\">1.&nbsp;</span> <span style=\"color: rgb(18, 38, 44); font-family: Arial; font-size: 15px; background-color: rgb(239, 249, 252);\">Számítsa ki, hogy átlagosan hány napig tartottak a foglalások&nbsp;</span>   <span style=\"box-sizing: border-box; color: rgb(18, 38, 44); font-family: Arial; font-size: 0.9375rem; background-color: rgb(239, 249, 252);\">szállásonként, illetve&nbsp;</span> \n",
                "\n",
                " <span style=\"background-color: rgb(239, 249, 252); color: rgb(18, 38, 44); font-family: Arial; font-size: 0.9375rem;\">ügyfelenként (külön-külön)!</span>\n",
                "\n",
                "<span style=\"box-sizing: border-box; color: rgb(18, 38, 44); font-family: Arial; font-size: 0.9375rem; background-color: rgb(239, 249, 252);\">A szállás,&nbsp;</span>   <span style=\"box-sizing: border-box; color: rgb(18, 38, 44); font-family: Arial; font-size: 0.9375rem; background-color: rgb(239, 249, 252);\">illetve az ügyfél esetén elég az azonosítójukat megadni.&nbsp;</span>"
            ],
            "metadata": {
                "azdata_cell_guid": "9f990b2c-beb4-4c28-ae67-f3b1f6b808eb"
            },
            "attachments": {}
        },
        {
            "cell_type": "code",
            "source": [
                "SELECT sz.szallas_fk,\r\n",
                "       f.ugyfel_fk,\r\n",
                "       -- hány napig tartott átlagosan\r\n",
                "       AVG(DATEDIFF(day, f.mettol, f.meddig))\r\n",
                "FROM Foglalas f JOIN szoba sz ON f.szoba_fk = sz.szoba_id\r\n",
                "GROUP BY GROUPING SETS(sz.SZALLAS_FK, f.UGYFEL_FK)"
            ],
            "metadata": {
                "azdata_cell_guid": "03e78698-b822-43e4-94c7-f2309fa75210",
                "language": "sql"
            },
            "outputs": [
                {
                    "output_type": "display_data",
                    "data": {
                        "text/html": "(207 rows affected)"
                    },
                    "metadata": {}
                },
                {
                    "output_type": "display_data",
                    "data": {
                        "text/html": "Total execution time: 00:00:00.119"
                    },
                    "metadata": {}
                },
                {
                    "output_type": "execute_result",
                    "metadata": {},
                    "execution_count": 3,
                    "data": {
                        "application/vnd.dataresource+json": {
                            "schema": {
                                "fields": [
                                    {
                                        "name": "szallas_fk"
                                    },
                                    {
                                        "name": "ugyfel_fk"
                                    },
                                    {
                                        "name": "(No column name)"
                                    }
                                ]
                            },
                            "data": [
                                {
                                    "szallas_fk": "NULL",
                                    "ugyfel_fk": "adam1",
                                    "(No column name)": "5"
                                },
                                {
                                    "szallas_fk": "NULL",
                                    "ugyfel_fk": "adam3",
                                    "(No column name)": "4"
                                },
                                {
                                    "szallas_fk": "NULL",
                                    "ugyfel_fk": "adam4",
                                    "(No column name)": "4"
                                },
                                {
                                    "szallas_fk": "NULL",
                                    "ugyfel_fk": "agnes",
                                    "(No column name)": "5"
                                },
                                {
                                    "szallas_fk": "NULL",
                                    "ugyfel_fk": "agnes3",
                                    "(No column name)": "4"
                                },
                                {
                                    "szallas_fk": "NULL",
                                    "ugyfel_fk": "AGNESH",
                                    "(No column name)": "4"
                                },
                                {
                                    "szallas_fk": "NULL",
                                    "ugyfel_fk": "AGNESK",
                                    "(No column name)": "2"
                                },
                                {
                                    "szallas_fk": "NULL",
                                    "ugyfel_fk": "akos",
                                    "(No column name)": "4"
                                },
                                {
                                    "szallas_fk": "NULL",
                                    "ugyfel_fk": "aladar",
                                    "(No column name)": "4"
                                },
                                {
                                    "szallas_fk": "NULL",
                                    "ugyfel_fk": "alexandra",
                                    "(No column name)": "4"
                                },
                                {
                                    "szallas_fk": "NULL",
                                    "ugyfel_fk": "andi",
                                    "(No column name)": "3"
                                },
                                {
                                    "szallas_fk": "NULL",
                                    "ugyfel_fk": "andras2",
                                    "(No column name)": "3"
                                },
                                {
                                    "szallas_fk": "NULL",
                                    "ugyfel_fk": "andras21",
                                    "(No column name)": "3"
                                },
                                {
                                    "szallas_fk": "NULL",
                                    "ugyfel_fk": "andras3",
                                    "(No column name)": "3"
                                },
                                {
                                    "szallas_fk": "NULL",
                                    "ugyfel_fk": "andras4",
                                    "(No column name)": "2"
                                },
                                {
                                    "szallas_fk": "NULL",
                                    "ugyfel_fk": "andras41",
                                    "(No column name)": "4"
                                },
                                {
                                    "szallas_fk": "NULL",
                                    "ugyfel_fk": "ANDRASE",
                                    "(No column name)": "4"
                                },
                                {
                                    "szallas_fk": "NULL",
                                    "ugyfel_fk": "ANDRASN",
                                    "(No column name)": "6"
                                },
                                {
                                    "szallas_fk": "NULL",
                                    "ugyfel_fk": "andrea",
                                    "(No column name)": "3"
                                },
                                {
                                    "szallas_fk": "NULL",
                                    "ugyfel_fk": "andrea3",
                                    "(No column name)": "2"
                                },
                                {
                                    "szallas_fk": "NULL",
                                    "ugyfel_fk": "andrea4",
                                    "(No column name)": "5"
                                },
                                {
                                    "szallas_fk": "NULL",
                                    "ugyfel_fk": "ANDREAT",
                                    "(No column name)": "3"
                                },
                                {
                                    "szallas_fk": "NULL",
                                    "ugyfel_fk": "anett3",
                                    "(No column name)": "5"
                                },
                                {
                                    "szallas_fk": "NULL",
                                    "ugyfel_fk": "aniko",
                                    "(No column name)": "2"
                                },
                                {
                                    "szallas_fk": "NULL",
                                    "ugyfel_fk": "aniko4",
                                    "(No column name)": "3"
                                },
                                {
                                    "szallas_fk": "NULL",
                                    "ugyfel_fk": "ANIKOS",
                                    "(No column name)": "5"
                                },
                                {
                                    "szallas_fk": "NULL",
                                    "ugyfel_fk": "anita",
                                    "(No column name)": "3"
                                },
                                {
                                    "szallas_fk": "NULL",
                                    "ugyfel_fk": "annamaria1",
                                    "(No column name)": "1"
                                },
                                {
                                    "szallas_fk": "NULL",
                                    "ugyfel_fk": "ANNAMARIAR",
                                    "(No column name)": "2"
                                },
                                {
                                    "szallas_fk": "NULL",
                                    "ugyfel_fk": "aron2",
                                    "(No column name)": "2"
                                },
                                {
                                    "szallas_fk": "NULL",
                                    "ugyfel_fk": "ARONK",
                                    "(No column name)": "4"
                                },
                                {
                                    "szallas_fk": "NULL",
                                    "ugyfel_fk": "arpad2",
                                    "(No column name)": "2"
                                },
                                {
                                    "szallas_fk": "NULL",
                                    "ugyfel_fk": "ARPADH",
                                    "(No column name)": "4"
                                },
                                {
                                    "szallas_fk": "NULL",
                                    "ugyfel_fk": "ARPADM",
                                    "(No column name)": "3"
                                },
                                {
                                    "szallas_fk": "NULL",
                                    "ugyfel_fk": "attila",
                                    "(No column name)": "5"
                                },
                                {
                                    "szallas_fk": "NULL",
                                    "ugyfel_fk": "attila1",
                                    "(No column name)": "4"
                                },
                                {
                                    "szallas_fk": "NULL",
                                    "ugyfel_fk": "attila4",
                                    "(No column name)": "4"
                                },
                                {
                                    "szallas_fk": "NULL",
                                    "ugyfel_fk": "ATTILAO",
                                    "(No column name)": "4"
                                },
                                {
                                    "szallas_fk": "NULL",
                                    "ugyfel_fk": "balazs1",
                                    "(No column name)": "3"
                                },
                                {
                                    "szallas_fk": "NULL",
                                    "ugyfel_fk": "balazs2",
                                    "(No column name)": "4"
                                },
                                {
                                    "szallas_fk": "NULL",
                                    "ugyfel_fk": "balazs3",
                                    "(No column name)": "3"
                                },
                                {
                                    "szallas_fk": "NULL",
                                    "ugyfel_fk": "balint",
                                    "(No column name)": "4"
                                },
                                {
                                    "szallas_fk": "NULL",
                                    "ugyfel_fk": "balint1",
                                    "(No column name)": "3"
                                },
                                {
                                    "szallas_fk": "NULL",
                                    "ugyfel_fk": "balint2",
                                    "(No column name)": "3"
                                },
                                {
                                    "szallas_fk": "NULL",
                                    "ugyfel_fk": "balu",
                                    "(No column name)": "2"
                                },
                                {
                                    "szallas_fk": "NULL",
                                    "ugyfel_fk": "beata4",
                                    "(No column name)": "2"
                                },
                                {
                                    "szallas_fk": "NULL",
                                    "ugyfel_fk": "BEATRIXK",
                                    "(No column name)": "3"
                                },
                                {
                                    "szallas_fk": "NULL",
                                    "ugyfel_fk": "BEATRIXS",
                                    "(No column name)": "3"
                                },
                                {
                                    "szallas_fk": "NULL",
                                    "ugyfel_fk": "BELAF",
                                    "(No column name)": "3"
                                },
                                {
                                    "szallas_fk": "NULL",
                                    "ugyfel_fk": "bence",
                                    "(No column name)": "3"
                                },
                                {
                                    "szallas_fk": "NULL",
                                    "ugyfel_fk": "BENCEB",
                                    "(No column name)": "4"
                                },
                                {
                                    "szallas_fk": "NULL",
                                    "ugyfel_fk": "bernadett1",
                                    "(No column name)": "4"
                                },
                                {
                                    "szallas_fk": "NULL",
                                    "ugyfel_fk": "bernadett2",
                                    "(No column name)": "4"
                                },
                                {
                                    "szallas_fk": "NULL",
                                    "ugyfel_fk": "BERNADETTO",
                                    "(No column name)": "4"
                                },
                                {
                                    "szallas_fk": "NULL",
                                    "ugyfel_fk": "bertalan",
                                    "(No column name)": "4"
                                },
                                {
                                    "szallas_fk": "NULL",
                                    "ugyfel_fk": "brigitta",
                                    "(No column name)": "5"
                                },
                                {
                                    "szallas_fk": "NULL",
                                    "ugyfel_fk": "brigitta3",
                                    "(No column name)": "5"
                                },
                                {
                                    "szallas_fk": "NULL",
                                    "ugyfel_fk": "csongor3",
                                    "(No column name)": "4"
                                },
                                {
                                    "szallas_fk": "NULL",
                                    "ugyfel_fk": "dani",
                                    "(No column name)": "3"
                                },
                                {
                                    "szallas_fk": "NULL",
                                    "ugyfel_fk": "daniel",
                                    "(No column name)": "2"
                                },
                                {
                                    "szallas_fk": "NULL",
                                    "ugyfel_fk": "daniel1",
                                    "(No column name)": "3"
                                },
                                {
                                    "szallas_fk": "NULL",
                                    "ugyfel_fk": "david",
                                    "(No column name)": "4"
                                },
                                {
                                    "szallas_fk": "NULL",
                                    "ugyfel_fk": "david1",
                                    "(No column name)": "2"
                                },
                                {
                                    "szallas_fk": "NULL",
                                    "ugyfel_fk": "david4",
                                    "(No column name)": "3"
                                },
                                {
                                    "szallas_fk": "NULL",
                                    "ugyfel_fk": "debora",
                                    "(No column name)": "3"
                                },
                                {
                                    "szallas_fk": "NULL",
                                    "ugyfel_fk": "denes",
                                    "(No column name)": "5"
                                },
                                {
                                    "szallas_fk": "NULL",
                                    "ugyfel_fk": "dora3",
                                    "(No column name)": "4"
                                },
                                {
                                    "szallas_fk": "NULL",
                                    "ugyfel_fk": "edit",
                                    "(No column name)": "4"
                                },
                                {
                                    "szallas_fk": "NULL",
                                    "ugyfel_fk": "emese",
                                    "(No column name)": "2"
                                },
                                {
                                    "szallas_fk": "NULL",
                                    "ugyfel_fk": "eszter",
                                    "(No column name)": "5"
                                },
                                {
                                    "szallas_fk": "NULL",
                                    "ugyfel_fk": "eszter2",
                                    "(No column name)": "8"
                                },
                                {
                                    "szallas_fk": "NULL",
                                    "ugyfel_fk": "eszter4",
                                    "(No column name)": "4"
                                },
                                {
                                    "szallas_fk": "NULL",
                                    "ugyfel_fk": "ESZTERE",
                                    "(No column name)": "4"
                                },
                                {
                                    "szallas_fk": "NULL",
                                    "ugyfel_fk": "eva",
                                    "(No column name)": "2"
                                },
                                {
                                    "szallas_fk": "NULL",
                                    "ugyfel_fk": "eva2",
                                    "(No column name)": "4"
                                },
                                {
                                    "szallas_fk": "NULL",
                                    "ugyfel_fk": "EVAV",
                                    "(No column name)": "5"
                                },
                                {
                                    "szallas_fk": "NULL",
                                    "ugyfel_fk": "ferenc1",
                                    "(No column name)": "2"
                                },
                                {
                                    "szallas_fk": "NULL",
                                    "ugyfel_fk": "fruzsina4",
                                    "(No column name)": "3"
                                },
                                {
                                    "szallas_fk": "NULL",
                                    "ugyfel_fk": "gabor1",
                                    "(No column name)": "2"
                                },
                                {
                                    "szallas_fk": "NULL",
                                    "ugyfel_fk": "gabor4",
                                    "(No column name)": "5"
                                },
                                {
                                    "szallas_fk": "NULL",
                                    "ugyfel_fk": "gabriella1",
                                    "(No column name)": "4"
                                },
                                {
                                    "szallas_fk": "NULL",
                                    "ugyfel_fk": "gabriella10",
                                    "(No column name)": "5"
                                },
                                {
                                    "szallas_fk": "NULL",
                                    "ugyfel_fk": "georgij",
                                    "(No column name)": "5"
                                },
                                {
                                    "szallas_fk": "NULL",
                                    "ugyfel_fk": "gusztav",
                                    "(No column name)": "5"
                                },
                                {
                                    "szallas_fk": "NULL",
                                    "ugyfel_fk": "GYONGYIK",
                                    "(No column name)": "5"
                                },
                                {
                                    "szallas_fk": "NULL",
                                    "ugyfel_fk": "GYORGYO",
                                    "(No column name)": "3"
                                },
                                {
                                    "szallas_fk": "NULL",
                                    "ugyfel_fk": "henrik3",
                                    "(No column name)": "3"
                                },
                                {
                                    "szallas_fk": "NULL",
                                    "ugyfel_fk": "IBOLYAA",
                                    "(No column name)": "4"
                                },
                                {
                                    "szallas_fk": "NULL",
                                    "ugyfel_fk": "ilona3",
                                    "(No column name)": "4"
                                },
                                {
                                    "szallas_fk": "NULL",
                                    "ugyfel_fk": "imre",
                                    "(No column name)": "1"
                                },
                                {
                                    "szallas_fk": "NULL",
                                    "ugyfel_fk": "imre1",
                                    "(No column name)": "2"
                                },
                                {
                                    "szallas_fk": "NULL",
                                    "ugyfel_fk": "istvan",
                                    "(No column name)": "2"
                                },
                                {
                                    "szallas_fk": "NULL",
                                    "ugyfel_fk": "istvan1",
                                    "(No column name)": "4"
                                },
                                {
                                    "szallas_fk": "NULL",
                                    "ugyfel_fk": "ISTVANV",
                                    "(No column name)": "2"
                                },
                                {
                                    "szallas_fk": "NULL",
                                    "ugyfel_fk": "janos3",
                                    "(No column name)": "2"
                                },
                                {
                                    "szallas_fk": "NULL",
                                    "ugyfel_fk": "JANOSG",
                                    "(No column name)": "5"
                                },
                                {
                                    "szallas_fk": "NULL",
                                    "ugyfel_fk": "JANOSP",
                                    "(No column name)": "4"
                                },
                                {
                                    "szallas_fk": "NULL",
                                    "ugyfel_fk": "jozsef",
                                    "(No column name)": "3"
                                },
                                {
                                    "szallas_fk": "NULL",
                                    "ugyfel_fk": "jozsef2",
                                    "(No column name)": "5"
                                },
                                {
                                    "szallas_fk": "NULL",
                                    "ugyfel_fk": "JOZSEFG",
                                    "(No column name)": "4"
                                },
                                {
                                    "szallas_fk": "NULL",
                                    "ugyfel_fk": "JUDITH",
                                    "(No column name)": "4"
                                },
                                {
                                    "szallas_fk": "NULL",
                                    "ugyfel_fk": "julia",
                                    "(No column name)": "4"
                                },
                                {
                                    "szallas_fk": "NULL",
                                    "ugyfel_fk": "julia4",
                                    "(No column name)": "6"
                                },
                                {
                                    "szallas_fk": "NULL",
                                    "ugyfel_fk": "julianna4",
                                    "(No column name)": "4"
                                },
                                {
                                    "szallas_fk": "NULL",
                                    "ugyfel_fk": "kata",
                                    "(No column name)": "3"
                                },
                                {
                                    "szallas_fk": "NULL",
                                    "ugyfel_fk": "katalin",
                                    "(No column name)": "4"
                                },
                                {
                                    "szallas_fk": "NULL",
                                    "ugyfel_fk": "katalin4",
                                    "(No column name)": "4"
                                },
                                {
                                    "szallas_fk": "NULL",
                                    "ugyfel_fk": "kati",
                                    "(No column name)": "4"
                                },
                                {
                                    "szallas_fk": "NULL",
                                    "ugyfel_fk": "katka",
                                    "(No column name)": "3"
                                },
                                {
                                    "szallas_fk": "NULL",
                                    "ugyfel_fk": "klaudia2",
                                    "(No column name)": "2"
                                },
                                {
                                    "szallas_fk": "NULL",
                                    "ugyfel_fk": "kornel4",
                                    "(No column name)": "4"
                                },
                                {
                                    "szallas_fk": "NULL",
                                    "ugyfel_fk": "kristof4",
                                    "(No column name)": "5"
                                },
                                {
                                    "szallas_fk": "NULL",
                                    "ugyfel_fk": "kriszti",
                                    "(No column name)": "3"
                                },
                                {
                                    "szallas_fk": "NULL",
                                    "ugyfel_fk": "krisztian4",
                                    "(No column name)": "4"
                                },
                                {
                                    "szallas_fk": "NULL",
                                    "ugyfel_fk": "KRISZTIANM",
                                    "(No column name)": "5"
                                },
                                {
                                    "szallas_fk": "NULL",
                                    "ugyfel_fk": "krisztina",
                                    "(No column name)": "4"
                                },
                                {
                                    "szallas_fk": "NULL",
                                    "ugyfel_fk": "krisztina1",
                                    "(No column name)": "3"
                                },
                                {
                                    "szallas_fk": "NULL",
                                    "ugyfel_fk": "KRISZTINAG",
                                    "(No column name)": "4"
                                },
                                {
                                    "szallas_fk": "NULL",
                                    "ugyfel_fk": "lajos",
                                    "(No column name)": "2"
                                },
                                {
                                    "szallas_fk": "NULL",
                                    "ugyfel_fk": "lala",
                                    "(No column name)": "2"
                                },
                                {
                                    "szallas_fk": "NULL",
                                    "ugyfel_fk": "laszlo1",
                                    "(No column name)": "7"
                                },
                                {
                                    "szallas_fk": "NULL",
                                    "ugyfel_fk": "laszlo2",
                                    "(No column name)": "2"
                                },
                                {
                                    "szallas_fk": "NULL",
                                    "ugyfel_fk": "LASZLOA",
                                    "(No column name)": "4"
                                },
                                {
                                    "szallas_fk": "NULL",
                                    "ugyfel_fk": "LASZLON",
                                    "(No column name)": "4"
                                },
                                {
                                    "szallas_fk": "NULL",
                                    "ugyfel_fk": "maria1",
                                    "(No column name)": "4"
                                },
                                {
                                    "szallas_fk": "NULL",
                                    "ugyfel_fk": "mark",
                                    "(No column name)": "5"
                                },
                                {
                                    "szallas_fk": "NULL",
                                    "ugyfel_fk": "MARKH",
                                    "(No column name)": "5"
                                },
                                {
                                    "szallas_fk": "NULL",
                                    "ugyfel_fk": "marton",
                                    "(No column name)": "4"
                                },
                                {
                                    "szallas_fk": "NULL",
                                    "ugyfel_fk": "MATEK",
                                    "(No column name)": "4"
                                },
                                {
                                    "szallas_fk": "NULL",
                                    "ugyfel_fk": "matyas2",
                                    "(No column name)": "3"
                                },
                                {
                                    "szallas_fk": "NULL",
                                    "ugyfel_fk": "MATYASS",
                                    "(No column name)": "5"
                                },
                                {
                                    "szallas_fk": "NULL",
                                    "ugyfel_fk": "MIHALYJ",
                                    "(No column name)": "4"
                                },
                                {
                                    "szallas_fk": "NULL",
                                    "ugyfel_fk": "miklos2",
                                    "(No column name)": "1"
                                },
                                {
                                    "szallas_fk": "NULL",
                                    "ugyfel_fk": "MIKLOSB",
                                    "(No column name)": "4"
                                },
                                {
                                    "szallas_fk": "NULL",
                                    "ugyfel_fk": "MONIKAM",
                                    "(No column name)": "4"
                                },
                                {
                                    "szallas_fk": "NULL",
                                    "ugyfel_fk": "NANDORF",
                                    "(No column name)": "2"
                                },
                                {
                                    "szallas_fk": "NULL",
                                    "ugyfel_fk": "nikolett3",
                                    "(No column name)": "5"
                                },
                                {
                                    "szallas_fk": "NULL",
                                    "ugyfel_fk": "nikoletta4",
                                    "(No column name)": "4"
                                },
                                {
                                    "szallas_fk": "NULL",
                                    "ugyfel_fk": "NIKOLETTAT",
                                    "(No column name)": "2"
                                },
                                {
                                    "szallas_fk": "NULL",
                                    "ugyfel_fk": "norbert",
                                    "(No column name)": "4"
                                },
                                {
                                    "szallas_fk": "NULL",
                                    "ugyfel_fk": "norbert2",
                                    "(No column name)": "4"
                                },
                                {
                                    "szallas_fk": "NULL",
                                    "ugyfel_fk": "norbert4",
                                    "(No column name)": "3"
                                },
                                {
                                    "szallas_fk": "NULL",
                                    "ugyfel_fk": "norbert5",
                                    "(No column name)": "2"
                                },
                                {
                                    "szallas_fk": "NULL",
                                    "ugyfel_fk": "pal",
                                    "(No column name)": "4"
                                },
                                {
                                    "szallas_fk": "NULL",
                                    "ugyfel_fk": "peter1",
                                    "(No column name)": "4"
                                },
                                {
                                    "szallas_fk": "NULL",
                                    "ugyfel_fk": "peter2",
                                    "(No column name)": "4"
                                },
                                {
                                    "szallas_fk": "NULL",
                                    "ugyfel_fk": "peter3",
                                    "(No column name)": "4"
                                },
                                {
                                    "szallas_fk": "NULL",
                                    "ugyfel_fk": "peter4",
                                    "(No column name)": "4"
                                },
                                {
                                    "szallas_fk": "NULL",
                                    "ugyfel_fk": "PETERB",
                                    "(No column name)": "3"
                                },
                                {
                                    "szallas_fk": "NULL",
                                    "ugyfel_fk": "polla",
                                    "(No column name)": "4"
                                },
                                {
                                    "szallas_fk": "NULL",
                                    "ugyfel_fk": "rajmond4",
                                    "(No column name)": "2"
                                },
                                {
                                    "szallas_fk": "NULL",
                                    "ugyfel_fk": "reka4",
                                    "(No column name)": "4"
                                },
                                {
                                    "szallas_fk": "NULL",
                                    "ugyfel_fk": "RENATAK",
                                    "(No column name)": "3"
                                },
                                {
                                    "szallas_fk": "NULL",
                                    "ugyfel_fk": "RENATAS",
                                    "(No column name)": "5"
                                },
                                {
                                    "szallas_fk": "NULL",
                                    "ugyfel_fk": "robert2",
                                    "(No column name)": "5"
                                },
                                {
                                    "szallas_fk": "NULL",
                                    "ugyfel_fk": "ROBERTI",
                                    "(No column name)": "4"
                                },
                                {
                                    "szallas_fk": "NULL",
                                    "ugyfel_fk": "ROBERTP",
                                    "(No column name)": "4"
                                },
                                {
                                    "szallas_fk": "NULL",
                                    "ugyfel_fk": "roland",
                                    "(No column name)": "2"
                                },
                                {
                                    "szallas_fk": "NULL",
                                    "ugyfel_fk": "roland1",
                                    "(No column name)": "4"
                                },
                                {
                                    "szallas_fk": "NULL",
                                    "ugyfel_fk": "roza2",
                                    "(No column name)": "4"
                                },
                                {
                                    "szallas_fk": "NULL",
                                    "ugyfel_fk": "sandor",
                                    "(No column name)": "5"
                                },
                                {
                                    "szallas_fk": "NULL",
                                    "ugyfel_fk": "sandor3",
                                    "(No column name)": "4"
                                },
                                {
                                    "szallas_fk": "NULL",
                                    "ugyfel_fk": "sandor4",
                                    "(No column name)": "4"
                                },
                                {
                                    "szallas_fk": "NULL",
                                    "ugyfel_fk": "sara",
                                    "(No column name)": "3"
                                },
                                {
                                    "szallas_fk": "NULL",
                                    "ugyfel_fk": "SEBASTIANF",
                                    "(No column name)": "4"
                                },
                                {
                                    "szallas_fk": "NULL",
                                    "ugyfel_fk": "sebestyen",
                                    "(No column name)": "5"
                                },
                                {
                                    "szallas_fk": "NULL",
                                    "ugyfel_fk": "szabolcs",
                                    "(No column name)": "2"
                                },
                                {
                                    "szallas_fk": "NULL",
                                    "ugyfel_fk": "SZABOLCSM",
                                    "(No column name)": "2"
                                },
                                {
                                    "szallas_fk": "NULL",
                                    "ugyfel_fk": "SZILARDS",
                                    "(No column name)": "5"
                                },
                                {
                                    "szallas_fk": "NULL",
                                    "ugyfel_fk": "szilvia1",
                                    "(No column name)": "4"
                                },
                                {
                                    "szallas_fk": "NULL",
                                    "ugyfel_fk": "tamara2",
                                    "(No column name)": "3"
                                },
                                {
                                    "szallas_fk": "NULL",
                                    "ugyfel_fk": "tamas",
                                    "(No column name)": "5"
                                },
                                {
                                    "szallas_fk": "NULL",
                                    "ugyfel_fk": "TAMASF",
                                    "(No column name)": "4"
                                },
                                {
                                    "szallas_fk": "NULL",
                                    "ugyfel_fk": "tibor",
                                    "(No column name)": "4"
                                },
                                {
                                    "szallas_fk": "NULL",
                                    "ugyfel_fk": "tibor2",
                                    "(No column name)": "5"
                                },
                                {
                                    "szallas_fk": "NULL",
                                    "ugyfel_fk": "tihamer",
                                    "(No column name)": "4"
                                },
                                {
                                    "szallas_fk": "NULL",
                                    "ugyfel_fk": "timea",
                                    "(No column name)": "1"
                                },
                                {
                                    "szallas_fk": "NULL",
                                    "ugyfel_fk": "timea2",
                                    "(No column name)": "2"
                                },
                                {
                                    "szallas_fk": "NULL",
                                    "ugyfel_fk": "tunde",
                                    "(No column name)": "4"
                                },
                                {
                                    "szallas_fk": "NULL",
                                    "ugyfel_fk": "valentin",
                                    "(No column name)": "5"
                                },
                                {
                                    "szallas_fk": "NULL",
                                    "ugyfel_fk": "veronika4",
                                    "(No column name)": "5"
                                },
                                {
                                    "szallas_fk": "NULL",
                                    "ugyfel_fk": "VIKTORIAU",
                                    "(No column name)": "3"
                                },
                                {
                                    "szallas_fk": "NULL",
                                    "ugyfel_fk": "VIKTORK",
                                    "(No column name)": "1"
                                },
                                {
                                    "szallas_fk": "NULL",
                                    "ugyfel_fk": "vivien3",
                                    "(No column name)": "3"
                                },
                                {
                                    "szallas_fk": "NULL",
                                    "ugyfel_fk": "zoltan",
                                    "(No column name)": "5"
                                },
                                {
                                    "szallas_fk": "NULL",
                                    "ugyfel_fk": "zoltan4",
                                    "(No column name)": "4"
                                },
                                {
                                    "szallas_fk": "NULL",
                                    "ugyfel_fk": "ZOLTANP",
                                    "(No column name)": "3"
                                },
                                {
                                    "szallas_fk": "NULL",
                                    "ugyfel_fk": "ZOLTANT",
                                    "(No column name)": "2"
                                },
                                {
                                    "szallas_fk": "NULL",
                                    "ugyfel_fk": "zsofi1",
                                    "(No column name)": "1"
                                },
                                {
                                    "szallas_fk": "NULL",
                                    "ugyfel_fk": "zsolt1",
                                    "(No column name)": "2"
                                },
                                {
                                    "szallas_fk": "NULL",
                                    "ugyfel_fk": "ZSOLTJ",
                                    "(No column name)": "3"
                                },
                                {
                                    "szallas_fk": "NULL",
                                    "ugyfel_fk": "zsuzsa",
                                    "(No column name)": "3"
                                },
                                {
                                    "szallas_fk": "NULL",
                                    "ugyfel_fk": "zsuzsa3",
                                    "(No column name)": "4"
                                },
                                {
                                    "szallas_fk": "NULL",
                                    "ugyfel_fk": "zsuzsanna",
                                    "(No column name)": "5"
                                },
                                {
                                    "szallas_fk": "NULL",
                                    "ugyfel_fk": "ZSUZSAV",
                                    "(No column name)": "3"
                                },
                                {
                                    "szallas_fk": "9",
                                    "ugyfel_fk": "NULL",
                                    "(No column name)": "4"
                                },
                                {
                                    "szallas_fk": "3",
                                    "ugyfel_fk": "NULL",
                                    "(No column name)": "3"
                                },
                                {
                                    "szallas_fk": "12",
                                    "ugyfel_fk": "NULL",
                                    "(No column name)": "4"
                                },
                                {
                                    "szallas_fk": "6",
                                    "ugyfel_fk": "NULL",
                                    "(No column name)": "4"
                                },
                                {
                                    "szallas_fk": "7",
                                    "ugyfel_fk": "NULL",
                                    "(No column name)": "3"
                                },
                                {
                                    "szallas_fk": "1",
                                    "ugyfel_fk": "NULL",
                                    "(No column name)": "4"
                                },
                                {
                                    "szallas_fk": "10",
                                    "ugyfel_fk": "NULL",
                                    "(No column name)": "3"
                                },
                                {
                                    "szallas_fk": "4",
                                    "ugyfel_fk": "NULL",
                                    "(No column name)": "4"
                                },
                                {
                                    "szallas_fk": "5",
                                    "ugyfel_fk": "NULL",
                                    "(No column name)": "4"
                                },
                                {
                                    "szallas_fk": "2",
                                    "ugyfel_fk": "NULL",
                                    "(No column name)": "3"
                                },
                                {
                                    "szallas_fk": "11",
                                    "ugyfel_fk": "NULL",
                                    "(No column name)": "3"
                                },
                                {
                                    "szallas_fk": "8",
                                    "ugyfel_fk": "NULL",
                                    "(No column name)": "3"
                                }
                            ]
                        },
                        "text/html": [
                            "<table>",
                            "<tr><th>szallas_fk</th><th>ugyfel_fk</th><th>(No column name)</th></tr>",
                            "<tr><td>NULL</td><td>adam1</td><td>5</td></tr>",
                            "<tr><td>NULL</td><td>adam3</td><td>4</td></tr>",
                            "<tr><td>NULL</td><td>adam4</td><td>4</td></tr>",
                            "<tr><td>NULL</td><td>agnes</td><td>5</td></tr>",
                            "<tr><td>NULL</td><td>agnes3</td><td>4</td></tr>",
                            "<tr><td>NULL</td><td>AGNESH</td><td>4</td></tr>",
                            "<tr><td>NULL</td><td>AGNESK</td><td>2</td></tr>",
                            "<tr><td>NULL</td><td>akos</td><td>4</td></tr>",
                            "<tr><td>NULL</td><td>aladar</td><td>4</td></tr>",
                            "<tr><td>NULL</td><td>alexandra</td><td>4</td></tr>",
                            "<tr><td>NULL</td><td>andi</td><td>3</td></tr>",
                            "<tr><td>NULL</td><td>andras2</td><td>3</td></tr>",
                            "<tr><td>NULL</td><td>andras21</td><td>3</td></tr>",
                            "<tr><td>NULL</td><td>andras3</td><td>3</td></tr>",
                            "<tr><td>NULL</td><td>andras4</td><td>2</td></tr>",
                            "<tr><td>NULL</td><td>andras41</td><td>4</td></tr>",
                            "<tr><td>NULL</td><td>ANDRASE</td><td>4</td></tr>",
                            "<tr><td>NULL</td><td>ANDRASN</td><td>6</td></tr>",
                            "<tr><td>NULL</td><td>andrea</td><td>3</td></tr>",
                            "<tr><td>NULL</td><td>andrea3</td><td>2</td></tr>",
                            "<tr><td>NULL</td><td>andrea4</td><td>5</td></tr>",
                            "<tr><td>NULL</td><td>ANDREAT</td><td>3</td></tr>",
                            "<tr><td>NULL</td><td>anett3</td><td>5</td></tr>",
                            "<tr><td>NULL</td><td>aniko</td><td>2</td></tr>",
                            "<tr><td>NULL</td><td>aniko4</td><td>3</td></tr>",
                            "<tr><td>NULL</td><td>ANIKOS</td><td>5</td></tr>",
                            "<tr><td>NULL</td><td>anita</td><td>3</td></tr>",
                            "<tr><td>NULL</td><td>annamaria1</td><td>1</td></tr>",
                            "<tr><td>NULL</td><td>ANNAMARIAR</td><td>2</td></tr>",
                            "<tr><td>NULL</td><td>aron2</td><td>2</td></tr>",
                            "<tr><td>NULL</td><td>ARONK</td><td>4</td></tr>",
                            "<tr><td>NULL</td><td>arpad2</td><td>2</td></tr>",
                            "<tr><td>NULL</td><td>ARPADH</td><td>4</td></tr>",
                            "<tr><td>NULL</td><td>ARPADM</td><td>3</td></tr>",
                            "<tr><td>NULL</td><td>attila</td><td>5</td></tr>",
                            "<tr><td>NULL</td><td>attila1</td><td>4</td></tr>",
                            "<tr><td>NULL</td><td>attila4</td><td>4</td></tr>",
                            "<tr><td>NULL</td><td>ATTILAO</td><td>4</td></tr>",
                            "<tr><td>NULL</td><td>balazs1</td><td>3</td></tr>",
                            "<tr><td>NULL</td><td>balazs2</td><td>4</td></tr>",
                            "<tr><td>NULL</td><td>balazs3</td><td>3</td></tr>",
                            "<tr><td>NULL</td><td>balint</td><td>4</td></tr>",
                            "<tr><td>NULL</td><td>balint1</td><td>3</td></tr>",
                            "<tr><td>NULL</td><td>balint2</td><td>3</td></tr>",
                            "<tr><td>NULL</td><td>balu</td><td>2</td></tr>",
                            "<tr><td>NULL</td><td>beata4</td><td>2</td></tr>",
                            "<tr><td>NULL</td><td>BEATRIXK</td><td>3</td></tr>",
                            "<tr><td>NULL</td><td>BEATRIXS</td><td>3</td></tr>",
                            "<tr><td>NULL</td><td>BELAF</td><td>3</td></tr>",
                            "<tr><td>NULL</td><td>bence</td><td>3</td></tr>",
                            "<tr><td>NULL</td><td>BENCEB</td><td>4</td></tr>",
                            "<tr><td>NULL</td><td>bernadett1</td><td>4</td></tr>",
                            "<tr><td>NULL</td><td>bernadett2</td><td>4</td></tr>",
                            "<tr><td>NULL</td><td>BERNADETTO</td><td>4</td></tr>",
                            "<tr><td>NULL</td><td>bertalan</td><td>4</td></tr>",
                            "<tr><td>NULL</td><td>brigitta</td><td>5</td></tr>",
                            "<tr><td>NULL</td><td>brigitta3</td><td>5</td></tr>",
                            "<tr><td>NULL</td><td>csongor3</td><td>4</td></tr>",
                            "<tr><td>NULL</td><td>dani</td><td>3</td></tr>",
                            "<tr><td>NULL</td><td>daniel</td><td>2</td></tr>",
                            "<tr><td>NULL</td><td>daniel1</td><td>3</td></tr>",
                            "<tr><td>NULL</td><td>david</td><td>4</td></tr>",
                            "<tr><td>NULL</td><td>david1</td><td>2</td></tr>",
                            "<tr><td>NULL</td><td>david4</td><td>3</td></tr>",
                            "<tr><td>NULL</td><td>debora</td><td>3</td></tr>",
                            "<tr><td>NULL</td><td>denes</td><td>5</td></tr>",
                            "<tr><td>NULL</td><td>dora3</td><td>4</td></tr>",
                            "<tr><td>NULL</td><td>edit</td><td>4</td></tr>",
                            "<tr><td>NULL</td><td>emese</td><td>2</td></tr>",
                            "<tr><td>NULL</td><td>eszter</td><td>5</td></tr>",
                            "<tr><td>NULL</td><td>eszter2</td><td>8</td></tr>",
                            "<tr><td>NULL</td><td>eszter4</td><td>4</td></tr>",
                            "<tr><td>NULL</td><td>ESZTERE</td><td>4</td></tr>",
                            "<tr><td>NULL</td><td>eva</td><td>2</td></tr>",
                            "<tr><td>NULL</td><td>eva2</td><td>4</td></tr>",
                            "<tr><td>NULL</td><td>EVAV</td><td>5</td></tr>",
                            "<tr><td>NULL</td><td>ferenc1</td><td>2</td></tr>",
                            "<tr><td>NULL</td><td>fruzsina4</td><td>3</td></tr>",
                            "<tr><td>NULL</td><td>gabor1</td><td>2</td></tr>",
                            "<tr><td>NULL</td><td>gabor4</td><td>5</td></tr>",
                            "<tr><td>NULL</td><td>gabriella1</td><td>4</td></tr>",
                            "<tr><td>NULL</td><td>gabriella10</td><td>5</td></tr>",
                            "<tr><td>NULL</td><td>georgij</td><td>5</td></tr>",
                            "<tr><td>NULL</td><td>gusztav</td><td>5</td></tr>",
                            "<tr><td>NULL</td><td>GYONGYIK</td><td>5</td></tr>",
                            "<tr><td>NULL</td><td>GYORGYO</td><td>3</td></tr>",
                            "<tr><td>NULL</td><td>henrik3</td><td>3</td></tr>",
                            "<tr><td>NULL</td><td>IBOLYAA</td><td>4</td></tr>",
                            "<tr><td>NULL</td><td>ilona3</td><td>4</td></tr>",
                            "<tr><td>NULL</td><td>imre</td><td>1</td></tr>",
                            "<tr><td>NULL</td><td>imre1</td><td>2</td></tr>",
                            "<tr><td>NULL</td><td>istvan</td><td>2</td></tr>",
                            "<tr><td>NULL</td><td>istvan1</td><td>4</td></tr>",
                            "<tr><td>NULL</td><td>ISTVANV</td><td>2</td></tr>",
                            "<tr><td>NULL</td><td>janos3</td><td>2</td></tr>",
                            "<tr><td>NULL</td><td>JANOSG</td><td>5</td></tr>",
                            "<tr><td>NULL</td><td>JANOSP</td><td>4</td></tr>",
                            "<tr><td>NULL</td><td>jozsef</td><td>3</td></tr>",
                            "<tr><td>NULL</td><td>jozsef2</td><td>5</td></tr>",
                            "<tr><td>NULL</td><td>JOZSEFG</td><td>4</td></tr>",
                            "<tr><td>NULL</td><td>JUDITH</td><td>4</td></tr>",
                            "<tr><td>NULL</td><td>julia</td><td>4</td></tr>",
                            "<tr><td>NULL</td><td>julia4</td><td>6</td></tr>",
                            "<tr><td>NULL</td><td>julianna4</td><td>4</td></tr>",
                            "<tr><td>NULL</td><td>kata</td><td>3</td></tr>",
                            "<tr><td>NULL</td><td>katalin</td><td>4</td></tr>",
                            "<tr><td>NULL</td><td>katalin4</td><td>4</td></tr>",
                            "<tr><td>NULL</td><td>kati</td><td>4</td></tr>",
                            "<tr><td>NULL</td><td>katka</td><td>3</td></tr>",
                            "<tr><td>NULL</td><td>klaudia2</td><td>2</td></tr>",
                            "<tr><td>NULL</td><td>kornel4</td><td>4</td></tr>",
                            "<tr><td>NULL</td><td>kristof4</td><td>5</td></tr>",
                            "<tr><td>NULL</td><td>kriszti</td><td>3</td></tr>",
                            "<tr><td>NULL</td><td>krisztian4</td><td>4</td></tr>",
                            "<tr><td>NULL</td><td>KRISZTIANM</td><td>5</td></tr>",
                            "<tr><td>NULL</td><td>krisztina</td><td>4</td></tr>",
                            "<tr><td>NULL</td><td>krisztina1</td><td>3</td></tr>",
                            "<tr><td>NULL</td><td>KRISZTINAG</td><td>4</td></tr>",
                            "<tr><td>NULL</td><td>lajos</td><td>2</td></tr>",
                            "<tr><td>NULL</td><td>lala</td><td>2</td></tr>",
                            "<tr><td>NULL</td><td>laszlo1</td><td>7</td></tr>",
                            "<tr><td>NULL</td><td>laszlo2</td><td>2</td></tr>",
                            "<tr><td>NULL</td><td>LASZLOA</td><td>4</td></tr>",
                            "<tr><td>NULL</td><td>LASZLON</td><td>4</td></tr>",
                            "<tr><td>NULL</td><td>maria1</td><td>4</td></tr>",
                            "<tr><td>NULL</td><td>mark</td><td>5</td></tr>",
                            "<tr><td>NULL</td><td>MARKH</td><td>5</td></tr>",
                            "<tr><td>NULL</td><td>marton</td><td>4</td></tr>",
                            "<tr><td>NULL</td><td>MATEK</td><td>4</td></tr>",
                            "<tr><td>NULL</td><td>matyas2</td><td>3</td></tr>",
                            "<tr><td>NULL</td><td>MATYASS</td><td>5</td></tr>",
                            "<tr><td>NULL</td><td>MIHALYJ</td><td>4</td></tr>",
                            "<tr><td>NULL</td><td>miklos2</td><td>1</td></tr>",
                            "<tr><td>NULL</td><td>MIKLOSB</td><td>4</td></tr>",
                            "<tr><td>NULL</td><td>MONIKAM</td><td>4</td></tr>",
                            "<tr><td>NULL</td><td>NANDORF</td><td>2</td></tr>",
                            "<tr><td>NULL</td><td>nikolett3</td><td>5</td></tr>",
                            "<tr><td>NULL</td><td>nikoletta4</td><td>4</td></tr>",
                            "<tr><td>NULL</td><td>NIKOLETTAT</td><td>2</td></tr>",
                            "<tr><td>NULL</td><td>norbert</td><td>4</td></tr>",
                            "<tr><td>NULL</td><td>norbert2</td><td>4</td></tr>",
                            "<tr><td>NULL</td><td>norbert4</td><td>3</td></tr>",
                            "<tr><td>NULL</td><td>norbert5</td><td>2</td></tr>",
                            "<tr><td>NULL</td><td>pal</td><td>4</td></tr>",
                            "<tr><td>NULL</td><td>peter1</td><td>4</td></tr>",
                            "<tr><td>NULL</td><td>peter2</td><td>4</td></tr>",
                            "<tr><td>NULL</td><td>peter3</td><td>4</td></tr>",
                            "<tr><td>NULL</td><td>peter4</td><td>4</td></tr>",
                            "<tr><td>NULL</td><td>PETERB</td><td>3</td></tr>",
                            "<tr><td>NULL</td><td>polla</td><td>4</td></tr>",
                            "<tr><td>NULL</td><td>rajmond4</td><td>2</td></tr>",
                            "<tr><td>NULL</td><td>reka4</td><td>4</td></tr>",
                            "<tr><td>NULL</td><td>RENATAK</td><td>3</td></tr>",
                            "<tr><td>NULL</td><td>RENATAS</td><td>5</td></tr>",
                            "<tr><td>NULL</td><td>robert2</td><td>5</td></tr>",
                            "<tr><td>NULL</td><td>ROBERTI</td><td>4</td></tr>",
                            "<tr><td>NULL</td><td>ROBERTP</td><td>4</td></tr>",
                            "<tr><td>NULL</td><td>roland</td><td>2</td></tr>",
                            "<tr><td>NULL</td><td>roland1</td><td>4</td></tr>",
                            "<tr><td>NULL</td><td>roza2</td><td>4</td></tr>",
                            "<tr><td>NULL</td><td>sandor</td><td>5</td></tr>",
                            "<tr><td>NULL</td><td>sandor3</td><td>4</td></tr>",
                            "<tr><td>NULL</td><td>sandor4</td><td>4</td></tr>",
                            "<tr><td>NULL</td><td>sara</td><td>3</td></tr>",
                            "<tr><td>NULL</td><td>SEBASTIANF</td><td>4</td></tr>",
                            "<tr><td>NULL</td><td>sebestyen</td><td>5</td></tr>",
                            "<tr><td>NULL</td><td>szabolcs</td><td>2</td></tr>",
                            "<tr><td>NULL</td><td>SZABOLCSM</td><td>2</td></tr>",
                            "<tr><td>NULL</td><td>SZILARDS</td><td>5</td></tr>",
                            "<tr><td>NULL</td><td>szilvia1</td><td>4</td></tr>",
                            "<tr><td>NULL</td><td>tamara2</td><td>3</td></tr>",
                            "<tr><td>NULL</td><td>tamas</td><td>5</td></tr>",
                            "<tr><td>NULL</td><td>TAMASF</td><td>4</td></tr>",
                            "<tr><td>NULL</td><td>tibor</td><td>4</td></tr>",
                            "<tr><td>NULL</td><td>tibor2</td><td>5</td></tr>",
                            "<tr><td>NULL</td><td>tihamer</td><td>4</td></tr>",
                            "<tr><td>NULL</td><td>timea</td><td>1</td></tr>",
                            "<tr><td>NULL</td><td>timea2</td><td>2</td></tr>",
                            "<tr><td>NULL</td><td>tunde</td><td>4</td></tr>",
                            "<tr><td>NULL</td><td>valentin</td><td>5</td></tr>",
                            "<tr><td>NULL</td><td>veronika4</td><td>5</td></tr>",
                            "<tr><td>NULL</td><td>VIKTORIAU</td><td>3</td></tr>",
                            "<tr><td>NULL</td><td>VIKTORK</td><td>1</td></tr>",
                            "<tr><td>NULL</td><td>vivien3</td><td>3</td></tr>",
                            "<tr><td>NULL</td><td>zoltan</td><td>5</td></tr>",
                            "<tr><td>NULL</td><td>zoltan4</td><td>4</td></tr>",
                            "<tr><td>NULL</td><td>ZOLTANP</td><td>3</td></tr>",
                            "<tr><td>NULL</td><td>ZOLTANT</td><td>2</td></tr>",
                            "<tr><td>NULL</td><td>zsofi1</td><td>1</td></tr>",
                            "<tr><td>NULL</td><td>zsolt1</td><td>2</td></tr>",
                            "<tr><td>NULL</td><td>ZSOLTJ</td><td>3</td></tr>",
                            "<tr><td>NULL</td><td>zsuzsa</td><td>3</td></tr>",
                            "<tr><td>NULL</td><td>zsuzsa3</td><td>4</td></tr>",
                            "<tr><td>NULL</td><td>zsuzsanna</td><td>5</td></tr>",
                            "<tr><td>NULL</td><td>ZSUZSAV</td><td>3</td></tr>",
                            "<tr><td>9</td><td>NULL</td><td>4</td></tr>",
                            "<tr><td>3</td><td>NULL</td><td>3</td></tr>",
                            "<tr><td>12</td><td>NULL</td><td>4</td></tr>",
                            "<tr><td>6</td><td>NULL</td><td>4</td></tr>",
                            "<tr><td>7</td><td>NULL</td><td>3</td></tr>",
                            "<tr><td>1</td><td>NULL</td><td>4</td></tr>",
                            "<tr><td>10</td><td>NULL</td><td>3</td></tr>",
                            "<tr><td>4</td><td>NULL</td><td>4</td></tr>",
                            "<tr><td>5</td><td>NULL</td><td>4</td></tr>",
                            "<tr><td>2</td><td>NULL</td><td>3</td></tr>",
                            "<tr><td>11</td><td>NULL</td><td>3</td></tr>",
                            "<tr><td>8</td><td>NULL</td><td>3</td></tr>",
                            "</table>"
                        ]
                    }
                }
            ],
            "execution_count": 3
        },
        {
            "cell_type": "markdown",
            "source": [
                "2. <span style=\"background-color: rgb(239, 249, 252); color: rgb(18, 38, 44); font-family: Arial; font-size: 15px;\">Készítsünk lekérdezést, amely megadja, hogy szállás típusonként,&nbsp;</span> <span style=\"color: rgb(18, 38, 44); font-family: Arial; font-size: 0.9375rem; box-sizing: border-box;\">azon belül<br>szálláshely kategóriánként (csillagok_szama) hány&nbsp;</span> <span style=\"color: rgb(18, 38, 44); font-family: Arial; font-size: 0.9375rem; box-sizing: border-box;\">db szálláshely van!&nbsp;</span> \n",
                "\n",
                "<span style=\"box-sizing: border-box; font-size: 0.9375rem;\">a. A lista jelenítse&nbsp; meg a részösszegeket és&nbsp;</span> <span style=\"box-sizing: border-box; font-size: 0.9375rem;\">a végösszeget is<br>(csak a végösszeget kell külön elnevezni)</span>"
            ],
            "metadata": {
                "azdata_cell_guid": "4fd5b488-f9cf-4e73-b1c0-4663662f4249"
            },
            "attachments": {}
        },
        {
            "cell_type": "code",
            "source": [
                ""
            ],
            "metadata": {
                "azdata_cell_guid": "0722ab64-5d22-4300-ac8f-d67fa7488b09",
                "language": "sql"
            },
            "outputs": [],
            "execution_count": null
        }
    ]
}