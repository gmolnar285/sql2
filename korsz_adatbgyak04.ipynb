{
    "metadata": {
        "kernelspec": {
            "name": "SQL",
            "display_name": "SQL",
            "language": "sql"
        },
        "language_info": {
            "name": "sql",
            "version": ""
        }
    },
    "nbformat_minor": 2,
    "nbformat": 4,
    "cells": [
        {
            "cell_type": "markdown",
            "source": [
                "<span style=\"color: rgb(18, 38, 44); font-family: Arial; font-size: 15px; background-color: rgb(239, 249, 252);\">1.&nbsp;</span> <span style=\"color: rgb(18, 38, 44); font-family: Arial; font-size: 15px; background-color: rgb(239, 249, 252);\">Számítsa ki, hogy átlagosan hány napig tartottak a foglalások&nbsp;</span>   <span style=\"box-sizing: border-box; color: rgb(18, 38, 44); font-family: Arial; font-size: 0.9375rem; background-color: rgb(239, 249, 252);\">szállásonként, illetve&nbsp;</span> \n",
                "\n",
                " <span style=\"background-color: rgb(239, 249, 252); color: rgb(18, 38, 44); font-family: Arial; font-size: 0.9375rem;\">ügyfelenként (külön-külön)!</span>\n",
                "\n",
                "<span style=\"box-sizing: border-box; color: rgb(18, 38, 44); font-family: Arial; font-size: 0.9375rem; background-color: rgb(239, 249, 252);\">A szállás,&nbsp;</span>   <span style=\"box-sizing: border-box; color: rgb(18, 38, 44); font-family: Arial; font-size: 0.9375rem; background-color: rgb(239, 249, 252);\">illetve az ügyfél esetén elég az azonosítójukat megadni.&nbsp;</span>"
            ],
            "metadata": {
                "azdata_cell_guid": "9f990b2c-beb4-4c28-ae67-f3b1f6b808eb"
            },
            "attachments": {}
        },
        {
            "cell_type": "code",
            "source": [
                "SELECT sz.szallas_fk,\r\n",
                "       f.ugyfel_fk,\r\n",
                "       -- hány napig tartott átlagosan\r\n",
                "       AVG(DATEDIFF(day, f.mettol, f.meddig))\r\n",
                "FROM Foglalas f JOIN szoba sz ON f.szoba_fk = sz.szoba_id\r\n",
                "GROUP BY GROUPING SETS(sz.SZALLAS_FK, f.UGYFEL_FK)"
            ],
            "metadata": {
                "azdata_cell_guid": "03e78698-b822-43e4-94c7-f2309fa75210",
                "language": "sql"
            },
            "outputs": [],
            "execution_count": null
        },
        {
            "cell_type": "markdown",
            "source": [
                "2. <span style=\"background-color: rgb(239, 249, 252); color: rgb(18, 38, 44); font-family: Arial; font-size: 15px;\">Készítsünk lekérdezést, amely megadja, hogy szállás típusonként,&nbsp;</span> <span style=\"color: rgb(18, 38, 44); font-family: Arial; font-size: 0.9375rem; box-sizing: border-box;\">azon belül<br>szálláshely kategóriánként (csillagok_szama) hány&nbsp;</span> <span style=\"color: rgb(18, 38, 44); font-family: Arial; font-size: 0.9375rem; box-sizing: border-box;\">db szálláshely van!&nbsp;</span> \n",
                "\n",
                "<span style=\"box-sizing: border-box; font-size: 0.9375rem;\">a. A lista jelenítse&nbsp; meg a részösszegeket és&nbsp;</span> <span style=\"box-sizing: border-box; font-size: 0.9375rem;\">a végösszeget is<br>(csak a végösszeget kell külön elnevezni)</span>"
            ],
            "metadata": {
                "azdata_cell_guid": "4fd5b488-f9cf-4e73-b1c0-4663662f4249"
            },
            "attachments": {}
        },
        {
            "cell_type": "code",
            "source": [
                "SELECT ISNULL(TIPUS, 'Végösszeg')\r\n",
                "       CSILLAGOK_SZAMA,\r\n",
                "       COUNT(*)\r\n",
                "FROM Szallashely\r\n",
                "GROUP BY ROLLUP(TIPUS, CSILLAGOK_SZAMA)"
            ],
            "metadata": {
                "azdata_cell_guid": "0722ab64-5d22-4300-ac8f-d67fa7488b09",
                "language": "sql"
            },
            "outputs": [],
            "execution_count": null
        },
        {
            "cell_type": "markdown",
            "source": [
                "3. <span style=\"background-color: rgb(239, 249, 252); color: rgb(18, 38, 44); font-family: Arial; font-size: 15px;\">Jelenítsük meg az ügyfelek nevét, minden egyes foglalásuk&nbsp;</span> <span style=\"color: rgb(18, 38, 44); font-family: Arial; font-size: 0.9375rem; box-sizing: border-box;\">kezdő dátumát, és azt,<br>hogy a foglalás összesen hány főre&nbsp;</span> <span style=\"color: rgb(18, 38, 44); font-family: Arial; font-size: 0.9375rem; box-sizing: border-box;\">történt.&nbsp;</span> \n",
                "\n",
                "<span style=\"box-sizing: border-box; font-size: 0.9375rem;\">a. Egy új oszlopban mindig jelenjen meg az előző foglalás&nbsp;</span> <span style=\"box-sizing: border-box; font-size: 0.9375rem;\">kezdő dátuma is!</span>"
            ],
            "metadata": {
                "azdata_cell_guid": "b4def1cf-aabd-4a5c-bee3-8d76132f5b5c"
            },
            "attachments": {}
        },
        {
            "cell_type": "code",
            "source": [
                ""
            ],
            "metadata": {
                "azdata_cell_guid": "c19607d0-5fbf-40ee-a260-3e4aeb57adc9",
                "language": "sql"
            },
            "outputs": [],
            "execution_count": null
        }
    ]
}